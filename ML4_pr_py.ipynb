{
  "nbformat": 4,
  "nbformat_minor": 0,
  "metadata": {
    "colab": {
      "name": "ML4_pr.py",
      "provenance": [],
      "collapsed_sections": [],
      "authorship_tag": "ABX9TyObj4nvVf75KlHyNyR0r2bN",
      "include_colab_link": true
    },
    "kernelspec": {
      "name": "python3",
      "display_name": "Python 3"
    },
    "language_info": {
      "name": "python"
    }
  },
  "cells": [
    {
      "cell_type": "markdown",
      "metadata": {
        "id": "view-in-github",
        "colab_type": "text"
      },
      "source": [
        "<a href=\"https://colab.research.google.com/github/vsw-812/DWM/blob/main/ML4_pr_py.ipynb\" target=\"_parent\"><img src=\"https://colab.research.google.com/assets/colab-badge.svg\" alt=\"Open In Colab\"/></a>"
      ]
    },
    {
      "cell_type": "code",
      "execution_count": null,
      "metadata": {
        "id": "PAmw1H-_hUAB"
      },
      "outputs": [],
      "source": [
        "import pandas as pd\n",
        "import numpy as np "
      ]
    },
    {
      "cell_type": "code",
      "source": [
        "#kmeans\n",
        "#dataset=dataset={'points':['P1','P2','P3','P4','P5','P6','P7','P8'],'X-Coordinate':[0.1,0.15,0.08,0.16,0.2,0.25,0.24,0.3],'Y-Coordinate':[0.6,0.71,0.9,\n",
        "#0.85,0.3,0.5,0.1,0.2]}\n",
        "#df=pd.DataFrame(dataset,columns=['points','X-Coordinate','Y-Coordinate'])\n",
        "#df.head()"
      ],
      "metadata": {
        "id": "frRtFCSss3Ws"
      },
      "execution_count": null,
      "outputs": []
    },
    {
      "cell_type": "code",
      "source": [
        "X = [[0.1,0.6], [0.15,0.71], [0.08,0.9],[0.16,0.85],[0.2,0.3],[0.25,0.5],[0.24,0.1],[0.3,0.2]]"
      ],
      "metadata": {
        "id": "l-6GMx--hU-j"
      },
      "execution_count": null,
      "outputs": []
    },
    {
      "cell_type": "code",
      "source": [
        "#f1=df['X-Coordinate'].values\n",
        "#f2=df['Y-Coordinate'].values\n",
        "\n",
        "#X=np.array(list(zip(f1,f2)))\n",
        "#print(X)"
      ],
      "metadata": {
        "id": "neB_9QlUs_5S"
      },
      "execution_count": null,
      "outputs": []
    },
    {
      "cell_type": "code",
      "source": [
        "centers = np.array([[0.1,0.6], [0.3,0.2]])\n",
        "print(' Initial Centroid:\\n', centers)\n",
        "#centroid1=list(X[0])\n",
        "#centroid2=list(X[7])\n",
        "#centroid=np.array([centroid1,centroid2])\n",
        "#print(centroid)"
      ],
      "metadata": {
        "colab": {
          "base_uri": "https://localhost:8080/"
        },
        "id": "612crO5Iq0XJ",
        "outputId": "54ef300b-2290-4c05-a5d0-e474abe1bda0"
      },
      "execution_count": null,
      "outputs": [
        {
          "output_type": "stream",
          "name": "stdout",
          "text": [
            " Initial Centroid:\n",
            " [[0.1 0.6]\n",
            " [0.3 0.2]]\n"
          ]
        }
      ]
    },
    {
      "cell_type": "code",
      "source": [
        "from sklearn.cluster import KMeans\n",
        "model = KMeans(n_clusters=2, init=centers, n_init=1)"
      ],
      "metadata": {
        "id": "qINmdIJorpsh"
      },
      "execution_count": null,
      "outputs": []
    },
    {
      "cell_type": "code",
      "source": [
        "model.fit(X)"
      ],
      "metadata": {
        "colab": {
          "base_uri": "https://localhost:8080/"
        },
        "id": "EM8zvQbysCdc",
        "outputId": "8c46ae9b-63b5-409b-ce75-302c0ca9d4e0"
      },
      "execution_count": null,
      "outputs": [
        {
          "output_type": "execute_result",
          "data": {
            "text/plain": [
              "KMeans(init=array([[0.1, 0.6],\n",
              "       [0.3, 0.2]]), n_clusters=2, n_init=1)"
            ]
          },
          "metadata": {},
          "execution_count": 14
        }
      ]
    },
    {
      "cell_type": "code",
      "source": [
        "print('Labels:', model.labels_)"
      ],
      "metadata": {
        "colab": {
          "base_uri": "https://localhost:8080/"
        },
        "id": "7IOnG5NCsIiQ",
        "outputId": "5644884a-3211-41cc-c025-201c6d8461db"
      },
      "execution_count": null,
      "outputs": [
        {
          "output_type": "stream",
          "name": "stdout",
          "text": [
            "Labels: [0 0 0 0 1 0 1 1]\n"
          ]
        }
      ]
    },
    {
      "cell_type": "code",
      "source": [
        "print('P6 belongs to clusters', model.labels_[5])"
      ],
      "metadata": {
        "colab": {
          "base_uri": "https://localhost:8080/"
        },
        "id": "IkSuFRMrsTGT",
        "outputId": "d4056875-1f6a-4f22-cc20-719aa6c27bbc"
      },
      "execution_count": null,
      "outputs": [
        {
          "output_type": "stream",
          "name": "stdout",
          "text": [
            "P6 belongs to clusters 0\n"
          ]
        }
      ]
    },
    {
      "cell_type": "code",
      "source": [
        "print('population of cluster 2:',np.count_nonzero(model.labels_==1 ))"
      ],
      "metadata": {
        "colab": {
          "base_uri": "https://localhost:8080/"
        },
        "id": "1Wja-3J5sbxf",
        "outputId": "05bde374-e2e1-40a0-bd8d-ebf1a6e143ec"
      },
      "execution_count": null,
      "outputs": [
        {
          "output_type": "stream",
          "name": "stdout",
          "text": [
            "population of cluster 2: 3\n"
          ]
        }
      ]
    },
    {
      "cell_type": "code",
      "source": [
        "model.cluster_centers_"
      ],
      "metadata": {
        "colab": {
          "base_uri": "https://localhost:8080/"
        },
        "id": "1AV9_iT7sg0N",
        "outputId": "6125cbcc-f3c6-4d11-ece3-59585b4d147c"
      },
      "execution_count": null,
      "outputs": [
        {
          "output_type": "execute_result",
          "data": {
            "text/plain": [
              "array([[0.148     , 0.712     ],\n",
              "       [0.24666667, 0.2       ]])"
            ]
          },
          "metadata": {},
          "execution_count": 19
        }
      ]
    }
  ]
}