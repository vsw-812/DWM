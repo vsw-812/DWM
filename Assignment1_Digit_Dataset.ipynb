{
  "nbformat": 4,
  "nbformat_minor": 0,
  "metadata": {
    "colab": {
      "name": "Digit-Dataset.ipynb",
      "provenance": [],
      "include_colab_link": true
    },
    "kernelspec": {
      "name": "python3",
      "display_name": "Python 3"
    },
    "language_info": {
      "name": "python"
    }
  },
  "cells": [
    {
      "cell_type": "markdown",
      "metadata": {
        "id": "view-in-github",
        "colab_type": "text"
      },
      "source": [
        "<a href=\"https://colab.research.google.com/github/vsw-812/DWM/blob/main/Assignment1_Digit_Dataset.ipynb\" target=\"_parent\"><img src=\"https://colab.research.google.com/assets/colab-badge.svg\" alt=\"Open In Colab\"/></a>"
      ]
    },
    {
      "cell_type": "markdown",
      "metadata": {
        "id": "UjvEAtyJw5Hw"
      },
      "source": [
        "**Problem Statement**\n",
        "\n",
        "From sklearn.datasets load digits dataset and do following\n",
        "1. Classify digits (0 to 9) using KNN classifier. You can use different\n",
        "values for k neighbors and need to figure out a value of K that gives\n",
        "you a maximum score. You can manually try different values of K or\n",
        "use gridsearchcv\n",
        "2. Plot confusion matrix\n",
        "3. Plot classification report"
      ]
    },
    {
      "cell_type": "markdown",
      "metadata": {
        "id": "5ptjUk4AwvIr"
      },
      "source": [
        "Importing required Library"
      ]
    },
    {
      "cell_type": "code",
      "metadata": {
        "id": "3F09OUklVMs5"
      },
      "source": [
        "from __future__ import print_function\n",
        "from sklearn import datasets\n",
        "from skimage import exposure\n",
        "from sklearn.model_selection import train_test_split\n",
        "from sklearn.neighbors import KNeighborsClassifier\n",
        "from sklearn.metrics import confusion_matrix\n",
        "from sklearn.metrics import classification_report\n",
        "import numpy as np\n",
        "\n",
        "import matplotlib.pyplot as plt\n",
        "import cv2"
      ],
      "execution_count": null,
      "outputs": []
    },
    {
      "cell_type": "code",
      "metadata": {
        "id": "9aiNwATKXya4"
      },
      "source": [
        "mnist= datasets.load_digits()"
      ],
      "execution_count": null,
      "outputs": []
    },
    {
      "cell_type": "code",
      "metadata": {
        "id": "1ADMli9Wbb1w"
      },
      "source": [
        "(traindata,testdata,trainlabels,testlabels)=train_test_split(np.array(mnist.data),mnist.target,test_size=0.25,random_state=42)\n",
        "\n",
        "#10% for validation\n",
        "\n",
        "(traindata, valdata, trainlabels, vallabels) = train_test_split(traindata, trainlabels,\n",
        "test_size=0.1, random_state=84)"
      ],
      "execution_count": null,
      "outputs": []
    },
    {
      "cell_type": "code",
      "metadata": {
        "colab": {
          "base_uri": "https://localhost:8080/"
        },
        "id": "BMrNAF00c0Ix",
        "outputId": "645c4854-2f4b-4cc6-97cc-c330394b51e4"
      },
      "source": [
        "#sizes of each data split\n",
        "print(\"training datapoint:{}\".format(len(trainlabels)))\n",
        "print(\"validation datapoints:{}\".format(len(vallabels)))\n",
        "print(\"test datapoints:{}\".format(len(testlabels)))"
      ],
      "execution_count": null,
      "outputs": [
        {
          "output_type": "stream",
          "name": "stdout",
          "text": [
            "training datapoint:1212\n",
            "validation datapoints:135\n",
            "test datapoints:450\n"
          ]
        }
      ]
    },
    {
      "cell_type": "code",
      "metadata": {
        "colab": {
          "base_uri": "https://localhost:8080/"
        },
        "id": "NqYiMWhUe07o",
        "outputId": "457cf8d5-6030-4c49-abf8-49a984642a2a"
      },
      "source": [
        "#initialze value of k for knn classification and accuracy for accuracy of k value\n",
        "kvals=range(1,30,2)\n",
        "accuracy=[]\n",
        "\n",
        "for k in range(1,30,2):\n",
        "  model=KNeighborsClassifier(n_neighbors=k)\n",
        "  model.fit(traindata,trainlabels)\n",
        "\n",
        "  score=model.score(valdata,vallabels)\n",
        "  print(\"k=%d,accuracy=%.2f%%\"%(k,score*100))\n",
        "  accuracy.append(score)\n"
      ],
      "execution_count": null,
      "outputs": [
        {
          "output_type": "stream",
          "name": "stdout",
          "text": [
            "k=1,accuracy=99.26%\n",
            "k=3,accuracy=99.26%\n",
            "k=5,accuracy=99.26%\n",
            "k=7,accuracy=99.26%\n",
            "k=9,accuracy=99.26%\n",
            "k=11,accuracy=99.26%\n",
            "k=13,accuracy=99.26%\n",
            "k=15,accuracy=99.26%\n",
            "k=17,accuracy=98.52%\n",
            "k=19,accuracy=98.52%\n",
            "k=21,accuracy=97.78%\n",
            "k=23,accuracy=97.04%\n",
            "k=25,accuracy=97.78%\n",
            "k=27,accuracy=97.04%\n",
            "k=29,accuracy=97.04%\n"
          ]
        }
      ]
    },
    {
      "cell_type": "code",
      "metadata": {
        "colab": {
          "base_uri": "https://localhost:8080/"
        },
        "id": "V__oQUHvtwYQ",
        "outputId": "8ea22d2d-0b8e-4738-f4d5-22f59159f760"
      },
      "source": [
        "#finding k value with most accuracy \n",
        "i=np.argmax(accuracy)\n",
        "print(\"k=%d achieved highest accuracy of %.2f%% on validation data\" % (kvals[i],\n",
        "accuracy[i] * 100))\n"
      ],
      "execution_count": null,
      "outputs": [
        {
          "output_type": "stream",
          "name": "stdout",
          "text": [
            "k=1 achieved highest accuracy of 99.26% on validation data\n"
          ]
        }
      ]
    },
    {
      "cell_type": "code",
      "metadata": {
        "colab": {
          "base_uri": "https://localhost:8080/"
        },
        "id": "swakI-81ucO1",
        "outputId": "441d1c0f-9556-480e-9c5a-2380cbf0b0b2"
      },
      "source": [
        "\n",
        "# re-training our classifier using the best k value and predict the labels of the\n",
        "# test data\n",
        "\n",
        "model = KNeighborsClassifier(n_neighbors=kvals[i])\n",
        "model.fit(traindata, trainlabels)\n",
        "predictions = model.predict(testdata)\n",
        "print(predictions[1])"
      ],
      "execution_count": null,
      "outputs": [
        {
          "output_type": "stream",
          "name": "stdout",
          "text": [
            "9\n"
          ]
        }
      ]
    },
    {
      "cell_type": "code",
      "metadata": {
        "colab": {
          "base_uri": "https://localhost:8080/"
        },
        "id": "HyOQmo72vMFm",
        "outputId": "c0955147-b813-4e89-ad6e-f20050d9977d"
      },
      "source": [
        "#confusion matrix\n",
        "\n",
        "print (\"Confusion matrix\")\n",
        "print(confusion_matrix(testlabels,predictions))"
      ],
      "execution_count": null,
      "outputs": [
        {
          "output_type": "stream",
          "name": "stdout",
          "text": [
            "Confusion matrix\n",
            "[[43  0  0  0  0  0  0  0  0  0]\n",
            " [ 0 37  0  0  0  0  0  0  0  0]\n",
            " [ 0  0 38  0  0  0  0  0  0  0]\n",
            " [ 0  0  0 45  0  0  0  0  1  0]\n",
            " [ 0  1  0  0 54  0  0  0  0  0]\n",
            " [ 0  0  0  0  0 59  0  0  0  0]\n",
            " [ 0  0  0  0  0  0 45  0  0  0]\n",
            " [ 0  0  0  0  0  0  0 40  0  1]\n",
            " [ 0  1  0  0  0  0  0  0 36  1]\n",
            " [ 0  0  0  1  1  1  0  0  0 45]]\n"
          ]
        }
      ]
    },
    {
      "cell_type": "code",
      "metadata": {
        "colab": {
          "base_uri": "https://localhost:8080/"
        },
        "id": "FDfRCBDLvDBO",
        "outputId": "6c42fdb0-fd75-44d1-e9b9-91435b8ebcbf"
      },
      "source": [
        "# final classification report demonstrating the accuracy of the classifier\n",
        "# for each of the digits\n",
        "\n",
        "print(\"EVALUATION ON TESTING DATA\")\n",
        "print(classification_report(testlabels, predictions))\n"
      ],
      "execution_count": null,
      "outputs": [
        {
          "output_type": "stream",
          "name": "stdout",
          "text": [
            "EVALUATION ON TESTING DATA\n",
            "              precision    recall  f1-score   support\n",
            "\n",
            "           0       1.00      1.00      1.00        43\n",
            "           1       0.95      1.00      0.97        37\n",
            "           2       1.00      1.00      1.00        38\n",
            "           3       0.98      0.98      0.98        46\n",
            "           4       0.98      0.98      0.98        55\n",
            "           5       0.98      1.00      0.99        59\n",
            "           6       1.00      1.00      1.00        45\n",
            "           7       1.00      0.98      0.99        41\n",
            "           8       0.97      0.95      0.96        38\n",
            "           9       0.96      0.94      0.95        48\n",
            "\n",
            "    accuracy                           0.98       450\n",
            "   macro avg       0.98      0.98      0.98       450\n",
            "weighted avg       0.98      0.98      0.98       450\n",
            "\n"
          ]
        }
      ]
    },
    {
      "cell_type": "code",
      "metadata": {
        "colab": {
          "base_uri": "https://localhost:8080/",
          "height": 1000
        },
        "id": "btxs1eLxvfwd",
        "outputId": "5411e617-08cf-412e-b663-3ac85d50f05a"
      },
      "source": [
        "for i in np.random.randint(0, high=len(testlabels), size=(5,)):\n",
        "         # grab the image and classify it\n",
        "         image = testdata[i]\n",
        "         prediction = model.predict([image])[0]\n",
        "         \n",
        "         \n",
        "         # show the prediction\n",
        "         \n",
        "         imgdata = np.array(image, dtype='float')\n",
        "         pixels = imgdata.reshape((8,8))\n",
        "         plt.imshow(pixels,cmap='gray')\n",
        "         print(\" digit is : {}\".format(prediction))\n",
        "         #cv2.imshow(\"image\", image)\n",
        "         plt.show()\n",
        "         cv2.waitKey(0)"
      ],
      "execution_count": null,
      "outputs": [
        {
          "output_type": "stream",
          "name": "stdout",
          "text": [
            " digit is : 0\n"
          ]
        },
        {
          "output_type": "display_data",
          "data": {
            "image/png": "[encoded data removed]",
            "text/plain": [
              "<Figure size 432x288 with 1 Axes>"
            ]
          },
          "metadata": {
            "needs_background": "light"
          }
        },
        {
          "output_type": "stream",
          "name": "stdout",
          "text": [
            " digit is : 1\n"
          ]
        },
        {
          "output_type": "display_data",
          "data": {
            "image/png": "[encoded data removed]",
            "text/plain": [
              "<Figure size 432x288 with 1 Axes>"
            ]
          },
          "metadata": {
            "needs_background": "light"
          }
        },
        {
          "output_type": "stream",
          "name": "stdout",
          "text": [
            " digit is : 7\n"
          ]
        },
        {
          "output_type": "display_data",
          "data": {
            "image/png": "[encoded data removed]",
            "text/plain": [
              "<Figure size 432x288 with 1 Axes>"
            ]
          },
          "metadata": {
            "needs_background": "light"
          }
        },
        {
          "output_type": "stream",
          "name": "stdout",
          "text": [
            " digit is : 1\n"
          ]
        },
        {
          "output_type": "display_data",
          "data": {
            "image/png": "[encoded data removed]",
            "text/plain": [
              "<Figure size 432x288 with 1 Axes>"
            ]
          },
          "metadata": {
            "needs_background": "light"
          }
        },
        {
          "output_type": "stream",
          "name": "stdout",
          "text": [
            " digit is : 1\n"
          ]
        },
        {
          "output_type": "display_data",
          "data": {
            "image/png": "[encoded data removed]",
            "text/plain": [
              "<Figure size 432x288 with 1 Axes>"
            ]
          },
          "metadata": {
            "needs_background": "light"
          }
        }
      ]
    }
  ]
}